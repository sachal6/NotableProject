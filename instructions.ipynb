{
 "cells": [
  {
   "cell_type": "code",
   "execution_count": 11,
   "metadata": {},
   "outputs": [],
   "source": [
    "import requests\n",
    "from requests.auth import HTTPBasicAuth\n",
    "from pprint import pprint\n",
    "import json"
   ]
  },
  {
   "cell_type": "markdown",
   "metadata": {},
   "source": [
    "## Entry Points"
   ]
  },
  {
   "cell_type": "code",
   "execution_count": 12,
   "metadata": {},
   "outputs": [],
   "source": [
    "url = 'http://127.0.0.1:5000'\n",
    "\n",
    "all_docs = '/api/v1/resources/doctors/all'\n",
    "add_appointment = '/api/v1/resources/doctors/appointments/new'\n",
    "get_doc_appointments = '/api/v1/resources/doctors/appointments'\n",
    "delete_appointment = '/api/v1/resources/doctors/appointments'\n"
   ]
  },
  {
   "cell_type": "markdown",
   "metadata": {},
   "source": [
    "## Get All Doctors\n",
    "Params: None"
   ]
  },
  {
   "cell_type": "code",
   "execution_count": 13,
   "metadata": {},
   "outputs": [
    {
     "name": "stdout",
     "output_type": "stream",
     "text": [
      "http://127.0.0.1:5000/api/v1/resources/doctors/all\n",
      "[{'first_name': 'd', 'last_name': 'a', 'u_id': 4034240455}, {'first_name': 'a', 'last_name': 'b', 'u_id': 4129623349}]\n"
     ]
    }
   ],
   "source": [
    "print(url+all_docs)\n",
    "response = requests.get(\n",
    "    url+all_docs\n",
    ")\n",
    "print(json.loads(response.text))"
   ]
  },
  {
   "cell_type": "markdown",
   "metadata": {},
   "source": [
    "## Add Appointment\n",
    "Params:\n",
    "\n",
    "u_id: Doctor's unique ID\n",
    "\n",
    "first_name: Patient's First Name\n",
    "\n",
    "last_name: Patient's Last Name\n",
    "\n",
    "time: Appointment Time (hh:mm)\n",
    "\n",
    "date: Appointment Date (mm/dd/yyyy)\n",
    "\n",
    "kind: Appointment Kind (NEW_PATIENT/FOLLOW_UP)"
   ]
  },
  {
   "cell_type": "code",
   "execution_count": 14,
   "metadata": {},
   "outputs": [
    {
     "name": "stdout",
     "output_type": "stream",
     "text": [
      "http://127.0.0.1:5000/api/v1/resources/doctors/appointments/new?u_id=4034240455&first_name=first&last_name=last&time=10:11&date=12/13/2011&kind=NEW_PATIENT\n",
      "Successfully added\n"
     ]
    }
   ],
   "source": [
    "args = ['u_id=4034240455','first_name=first', 'last_name=last', 'time=10:11', 'date=12/13/2011', 'kind=NEW_PATIENT']\n",
    "print(url+add_appointment+'?'+'&'.join(args))\n",
    "response = requests.get(\n",
    "    url+add_appointment+'?'+'&'.join(args)\n",
    ")\n",
    "print(json.loads(response.text))       "
   ]
  },
  {
   "cell_type": "markdown",
   "metadata": {},
   "source": [
    "## Get Appointments from Doctor on Date\n",
    "\n",
    "Params:\n",
    "\n",
    "u_id: Doctor's unique ID\n",
    "\n",
    "date: Appointment Date (mm/dd/yyyy)\n"
   ]
  },
  {
   "cell_type": "code",
   "execution_count": 15,
   "metadata": {},
   "outputs": [
    {
     "name": "stdout",
     "output_type": "stream",
     "text": [
      "http://127.0.0.1:5000/api/v1/resources/doctors/appointments?u_id=4034240455&date=1/2/2011\n",
      "[{'date': '2011-01-02', 'first_name': 'a', 'kind': 'FOLLOW_UP', 'last_name': 'b', 'time': '11:21:00', 'u_id': 14240411}]\n"
     ]
    }
   ],
   "source": [
    "print(url+get_doc_appointments+'?u_id=4034240455&date=1/2/2011')\n",
    "response = requests.get(\n",
    "    url+get_doc+'?u_id=4034240455&date=1/2/2011'\n",
    ")\n",
    "print(json.loads(response.text))"
   ]
  },
  {
   "cell_type": "markdown",
   "metadata": {},
   "source": [
    "## Delete Appointment\n",
    "\n",
    "Params:\n",
    "\n",
    "u_id: Doctor's unique ID\n",
    "\n",
    "first_name: Patient's First Name\n",
    "\n",
    "last_name: Patient's Last Name\n",
    "\n",
    "time: Appointment Time (hh:mm)\n",
    "\n",
    "date: Appointment Date (mm/dd/yyyy)\n",
    "\n",
    "kind: Appointment Kind (NEW_PATIENT/FOLLOW_UP)"
   ]
  },
  {
   "cell_type": "code",
   "execution_count": 16,
   "metadata": {},
   "outputs": [
    {
     "name": "stdout",
     "output_type": "stream",
     "text": [
      "http://127.0.0.1:5000/api/v1/resources/doctors/appointments?u_id=14240411\n",
      "Successfully Deleted\n"
     ]
    }
   ],
   "source": [
    "print(url+delete_appointment+'?u_id=14240411')\n",
    "response = requests.delete(\n",
    "    url+delete_appointment+'?u_id=14240411'\n",
    ")\n",
    "print(json.loads(response.text))"
   ]
  },
  {
   "cell_type": "code",
   "execution_count": null,
   "metadata": {},
   "outputs": [],
   "source": []
  }
 ],
 "metadata": {
  "kernelspec": {
   "display_name": "Python 3",
   "language": "python",
   "name": "python3"
  },
  "language_info": {
   "codemirror_mode": {
    "name": "ipython",
    "version": 3
   },
   "file_extension": ".py",
   "mimetype": "text/x-python",
   "name": "python",
   "nbconvert_exporter": "python",
   "pygments_lexer": "ipython3",
   "version": "3.7.1"
  }
 },
 "nbformat": 4,
 "nbformat_minor": 2
}
